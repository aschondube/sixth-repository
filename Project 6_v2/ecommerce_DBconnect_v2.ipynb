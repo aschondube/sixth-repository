{
  "cells": [
    {
      "cell_type": "markdown",
      "metadata": {
        "id": "C1jRLqJ7acd8"
      },
      "source": [
        "# SQL connection\n",
        "\n",
        "Once data is processed (see TablePrep file), SQL tables are created in the DB and data is sent to using the SQL connector.  "
      ]
    },
    {
      "cell_type": "code",
      "execution_count": null,
      "metadata": {
        "id": "wLqBTSXdaceA"
      },
      "outputs": [],
      "source": [
        "# relevant modules\n",
        "\n",
        "import pandas as pd\n",
        "import os\n",
        "import sqlite3\n",
        "from sqlite3 import Error"
      ]
    },
    {
      "cell_type": "code",
      "execution_count": 2,
      "metadata": {
        "id": "OsFvXZkFaceC"
      },
      "outputs": [],
      "source": [
        "# locating path for reference in code  \n",
        "path = \"C:\\\\Users\\\\EWF\\\\OneDrive\\\\Documentos\\\\CABerlin\\\\Project 6\\\\Project 6_v2\\\\\"\n",
        "\n",
        "if not os.path.exists(path):\n",
        "    raise FileNotFoundError(f\"Directory '{path}' does not exist.\")"
      ]
    },
    {
      "cell_type": "markdown",
      "metadata": {},
      "source": [
        "## Step 1 - SQL Table creation"
      ]
    },
    {
      "cell_type": "code",
      "execution_count": null,
      "metadata": {
        "id": "n7wwTxHBaceD"
      },
      "outputs": [],
      "source": [
        "# def create_connection(db_file):\n",
        "#     \"\"\" create a database connection to a SQLite database \"\"\"\n",
        "#     conn = None\n",
        "#     try:\n",
        "#         conn = sqlite3.connect(db_file)\n",
        "#         print(sqlite3.version)\n",
        "#     except Error as e:\n",
        "#         print(e)\n",
        "#     finally:\n",
        "#         if conn:\n",
        "#             conn.close()\n",
        "\n",
        "\n",
        "# if __name__ == '__main__':\n",
        "#     create_connection(r\"C:\\sqlite\\db\\pythonsqlite.db\")"
      ]
    },
    {
      "cell_type": "code",
      "execution_count": 3,
      "metadata": {
        "id": "GfRpRITgaceD"
      },
      "outputs": [],
      "source": [
        "#  creating an empty sqlite database to populate with the newly created dataframes\n",
        "sales_db = sqlite3.connect(\"superstore_database.db\")\n",
        "\n",
        "#Alternate method\n",
        "# import pyodbc\n",
        "# sales_db = pyodbc.connect('Driver={SQL Server};'\n",
        "#                      'Server=KILLBOT-LAPTOP\\SQLEXPRESS;'\n",
        "#                      'Database=test_database;'\n",
        "#                      'Trusted_Connection=yes;')"
      ]
    },
    {
      "cell_type": "code",
      "execution_count": 4,
      "metadata": {
        "id": "BNVMydBeaceE"
      },
      "outputs": [],
      "source": [
        "# Establishing a cursor object (a tool that executes SQL code against the database)\n",
        "c = sales_db.cursor()"
      ]
    },
    {
      "cell_type": "code",
      "execution_count": 5,
      "metadata": {
        "id": "AQKVjeOuaceE",
        "outputId": "53d4e23c-ed66-4a05-f3eb-ad300fa5f5cd"
      },
      "outputs": [
        {
          "data": {
            "text/plain": [
              "<sqlite3.Cursor at 0x1e673b697c0>"
            ]
          },
          "execution_count": 5,
          "metadata": {},
          "output_type": "execute_result"
        }
      ],
      "source": [
        "#create the (empty) tables which will be included in the database\n",
        "\n",
        "#Customers\n",
        "c.execute('''\n",
        "CREATE TABLE IF NOT EXISTS \"Customers\" (\n",
        "\t\"CustomerID\"\tCHAR(8),\n",
        "\t\"CustomerName\"\tVARCHAR(30),\n",
        "\t\"Segment\"\tVARCHAR(15),\n",
        "\t\"Sex\" CHAR(2),\n",
        "\tPRIMARY KEY(\"CustomerID\")\n",
        ");\n",
        "''')\n",
        "\n",
        "#Address\n",
        "c.execute('''\n",
        "CREATE TABLE IF NOT EXISTS \"Address\" (\n",
        "\t\"CustomerID\"\tCHAR(8),\n",
        "\t\"Region\"\tVARCHAR(7),\n",
        "\t\"State\"\tVARCHAR(20),\n",
        "\t\"City\"\tVARCHAR(30),\n",
        "\t\"PostalCode\"\tMEDIUMINT,\n",
        "\t\"AddressID\"\tCHAR(7),\n",
        "\tPRIMARY KEY(\"AddressID\"),\n",
        "    FOREIGN KEY (CustomerID) REFERENCES \"Customers\"(CustomerID)\n",
        ");\n",
        "''')\n",
        "\n",
        "#Orders\n",
        "c.execute('''\n",
        "CREATE TABLE IF NOT EXISTS \"Orders\" (\n",
        "\t\"OrderID\"\tCHAR(14),\n",
        "\t\"CustomerID\"\tCHAR(8),\n",
        "\t\"OrderDate\"\tDATE,\n",
        "\t\"AddressID\"\tCHAR(7),\n",
        "    \"ShipDate\"\tDATE,\n",
        "    \"ShipMode\"\tVARCHAR(20),\n",
        "\tPRIMARY KEY(\"OrderID\"),\n",
        "    FOREIGN KEY (CustomerID) REFERENCES \"Customers\"(CustomerID)\n",
        ");\n",
        "''')\n",
        "\n",
        "#Category\n",
        "c.execute('''\n",
        "CREATE TABLE IF NOT EXISTS \"Category\" (\n",
        "\t\"Category\"\tVARCHAR(20),\n",
        "\t\"SubCategory\"\tVARCHAR(20),\n",
        "\t\"CategoryID\"\tCHAR(5),\n",
        "\tPRIMARY KEY(\"CategoryID\")\n",
        ");\n",
        "''')\n",
        "\n",
        "\n",
        "#Products\n",
        "c.execute('''\n",
        "CREATE TABLE IF NOT EXISTS \"Products\" (\n",
        "\t\"ProductID\"\tCHAR(15),\n",
        "\t\"ProductName\"\tVARCHAR(200),\n",
        "\t\"CataloguePrice\"\tMEDIUMINT,\n",
        "\t\"SupplierPrice\"\tMEDIUMINT,\n",
        "\t\"CategoryID\"\tCHAR(5),\n",
        "\tPRIMARY KEY(\"ProductID\"),\n",
        "    FOREIGN KEY (CategoryID) REFERENCES \"Category\"(CategoryID)\n",
        ");\n",
        "''')\n",
        "\n",
        "\n",
        "#Order Details\n",
        "c.execute('''\n",
        "CREATE TABLE IF NOT EXISTS \"OrderDetails\" (\n",
        "\t\"OrderID\"\tCHAR(14),\n",
        "\t\"ProductID\"\tCHAR(15),\n",
        "\t\"Quantity\"\tTINYINT,\n",
        "\t\"Sales\"\tINT,\n",
        "\t\"Discount\"\tINT,\n",
        "\t\"Profit\"\tINT,\n",
        "\tPRIMARY KEY(\"OrderID\",\"ProductID\"),\n",
        "    FOREIGN KEY (ProductID) REFERENCES \"Products\"(ProductID),\n",
        "    FOREIGN KEY (OrderID) REFERENCES \"Orders\"(OrderID)\n",
        ");\n",
        "''')"
      ]
    },
    {
      "cell_type": "markdown",
      "metadata": {
        "id": "6xhnqH-zaceH"
      },
      "source": [
        "## Step 2 - Table population "
      ]
    },
    {
      "cell_type": "code",
      "execution_count": 6,
      "metadata": {
        "id": "8QlzNb8AaceH"
      },
      "outputs": [],
      "source": [
        "csv_list = [os.path.splitext(filename)[0] for filename in os.listdir(path)]"
      ]
    },
    {
      "cell_type": "code",
      "execution_count": 8,
      "metadata": {
        "id": "kvolVOIpaceI"
      },
      "outputs": [],
      "source": [
        "# tables = [pd.read_csv(f'{path}{name}.csv') for name in csv_list] - this code raised an error so adjusting it below\n",
        "csv_list = [\"Customers\",\"Address\", \"Orders\", \"Category\", \"Products\", \"OrderDetails\"]\n",
        " \n",
        "tables = [pd.read_csv(os.path.join(path, f\"{name}.csv\")) for name in csv_list]\n"
      ]
    },
    {
      "cell_type": "code",
      "execution_count": 11,
      "metadata": {
        "id": "1lC-hl3paceI"
      },
      "outputs": [],
      "source": [
        "table_dict = dict(zip(csv_list, tables))"
      ]
    },
    {
      "cell_type": "code",
      "execution_count": 12,
      "metadata": {
        "id": "NloxpY4saceJ"
      },
      "outputs": [],
      "source": [
        "table_list = iter(table_dict.keys())\n",
        "table_contents = iter(table_dict.values())\n",
        "\n",
        "\n",
        "#Here we are inserting the data into our predefined table structure. To do this, we use if_exists='append'. 'replace' would also remove our already defined structure. As we do not want an index, we also add index=False.\n",
        "for i in range (len(table_dict)):\n",
        "    next(table_contents).to_sql((next(table_list)), sales_db, if_exists='append', index=False)"
      ]
    },
    {
      "cell_type": "code",
      "execution_count": 13,
      "metadata": {
        "id": "6Do1gGD3aceJ"
      },
      "outputs": [],
      "source": [
        "#Now we can commit these changes and perform queries on the database!\n",
        "sales_db.commit()"
      ]
    },
    {
      "cell_type": "code",
      "execution_count": 14,
      "metadata": {
        "id": "jGDtceGbaceK"
      },
      "outputs": [],
      "source": [
        "#Always best practice to close the connection once you're done.\n",
        "sales_db.close()"
      ]
    }
  ],
  "metadata": {
    "colab": {
      "provenance": []
    },
    "kernelspec": {
      "display_name": "base",
      "language": "python",
      "name": "python3"
    },
    "language_info": {
      "codemirror_mode": {
        "name": "ipython",
        "version": 3
      },
      "file_extension": ".py",
      "mimetype": "text/x-python",
      "name": "python",
      "nbconvert_exporter": "python",
      "pygments_lexer": "ipython3",
      "version": "3.11.5"
    },
    "orig_nbformat": 4
  },
  "nbformat": 4,
  "nbformat_minor": 0
}
